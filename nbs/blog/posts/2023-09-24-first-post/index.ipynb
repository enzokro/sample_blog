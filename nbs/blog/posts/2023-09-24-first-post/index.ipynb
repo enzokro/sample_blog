{
 "cells": [
  {
   "cell_type": "raw",
   "metadata": {},
   "source": [
    "---\n",
    "title: My first blog post. \n",
    "author: Chris \n",
    "date: \"September 24, 2023\"\n",
    "---"
   ]
  },
  {
   "cell_type": "markdown",
   "metadata": {},
   "source": [
    "Hello from Quarto and nbdev! My first post."
   ]
  }
 ],
 "metadata": {
  "language_info": {
   "name": "python"
  },
  "orig_nbformat": 4
 },
 "nbformat": 4,
 "nbformat_minor": 2
}
